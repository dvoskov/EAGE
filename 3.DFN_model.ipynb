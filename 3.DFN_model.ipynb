{
 "cells": [
  {
   "cell_type": "markdown",
   "id": "4b0f0c93",
   "metadata": {},
   "source": [
    "<img style=\"float: left;\" src=\"figures/DFN.png\" width=\"10%\">   \n",
    "\n",
    "# <font color='Red'> $\\;$ A geothermal doublet in a fractured reservoir</font>"
   ]
  },
  {
   "cell_type": "markdown",
   "id": "2608e58a",
   "metadata": {},
   "source": [
    "## Import all important packages\n",
    "\n",
    "It includes two local files:\n",
    " * [Model](https://gitlab.com/open-darts/darts-models/-/blob/development/teaching/EAGE/model.py) with main model description\n",
    " * [Model_input](https://gitlab.com/open-darts/darts-models/-/blob/development/teaching/EAGE/model_input.py) with input parameters\n"
   ]
  },
  {
   "cell_type": "code",
   "execution_count": null,
   "id": "8a14f984",
   "metadata": {},
   "outputs": [],
   "source": [
    "import os\n",
    "import numpy as np\n",
    "import pandas as pd\n",
    "import pickle\n",
    "\n",
    "import matplotlib.pyplot as plt\n",
    "\n",
    "from darts.engines import redirect_darts_output\n",
    "from darts.tools.fracture_network.preprocessing_code import frac_preprocessing\n",
    "\n",
    "from model import Model\n",
    "from model_input import input_data_default\n",
    "\n",
    "redirect_darts_output('dfm_model.log')"
   ]
  },
  {
   "cell_type": "markdown",
   "id": "b233c4ce",
   "metadata": {},
   "source": [
    "## Set parameters"
   ]
  },
  {
   "cell_type": "code",
   "execution_count": null,
   "id": "8339042d",
   "metadata": {},
   "outputs": [],
   "source": [
    "def input_data_case():\n",
    "    input_data = input_data_default()\n",
    "    \n",
    "    input_data['case_name'] = 'case_1'\n",
    "\n",
    "    # geometry\n",
    "    input_data['frac_file'] = 'frac.txt' # file with fractures tips coordinates (X1, Y1, X2, Y2)\n",
    "\n",
    "    # cell sizes\n",
    "    input_data['char_len'] = 20  # near fractures (characteristic length for cleaning and mesh generation) [m]\n",
    "    input_data['char_len_boundary'] = 150  # grid size near grid boundaries [m]\n",
    "\n",
    "    input_data['z_top'] = 2000  # top depth of the reservoir [m]\n",
    "    input_data['height'] = 10  # reservoir thickness [m]\n",
    "\n",
    "    input_data['frac_aper'] = 1e-3  # (initial) fracture aperture [m]\n",
    "    \n",
    "    input_data['perm'] = 1 # [mD]\n",
    "    \n",
    "    input_data['hcap'] = 2200. # [kJ/m3/K]\n",
    "    input_data['conduction'] = 181.44  # [kJ/m/day/K]\n",
    "    \n",
    "    # uniform initial pressure and temperature\n",
    "    input_data['initial_uniform'] = True\n",
    "    input_data['uniform_pressure'] = 250.  # [bars]\n",
    "    input_data['uniform_temperature'] = 380.  # [K]\n",
    "\n",
    "    # well locations; # X, Y, Z (only one perforation)\n",
    "    input_data['inj_well_coords'] = [[200, 200, 2000]]  \n",
    "    input_data['prod_well_coords'] = [[800, 800, 2000]]\n",
    "\n",
    "    # well controls. the difference between the initial reservoir p,T and wells\n",
    "    input_data['delta_temp'] = 40    # [K]      inj_temperature = initial_temp - delta_temp\n",
    "    input_data['delta_p_inj']  = 20  # [bars]. inj_bhp = initial_pressure + delta_p_inj\n",
    "    input_data['delta_p_prod'] = 20  # [bars]. inj_prod = initial_pressure - delta_p_prod\n",
    "\n",
    "    return input_data"
   ]
  },
  {
   "cell_type": "code",
   "execution_count": null,
   "id": "45d8d59a",
   "metadata": {},
   "outputs": [],
   "source": [
    "input_data = input_data_case()"
   ]
  },
  {
   "cell_type": "markdown",
   "id": "19fece46",
   "metadata": {},
   "source": [
    "## Plot Discrete Fractured Network (DFN)"
   ]
  },
  {
   "cell_type": "code",
   "execution_count": null,
   "id": "153ce912",
   "metadata": {},
   "outputs": [],
   "source": [
    "def plot_dfn(input_data):\n",
    "    frac_data_raw = np.genfromtxt(input_data['frac_file'])\n",
    "\n",
    "    plt.gca().set_aspect('equal')\n",
    "    for i in range(frac_data_raw.shape[0]):\n",
    "        plt.plot(np.append(frac_data_raw[i, 0], frac_data_raw[i, 2]),\n",
    "                 np.append(frac_data_raw[i, 1], frac_data_raw[i, 3]))\n",
    "    \n",
    "    wells_inj = input_data['inj_well_coords']\n",
    "    plt.plot(wells_inj[0][0], wells_inj[0][1], 'o', color='b', label='inj well')\n",
    "    wells_prod = input_data['prod_well_coords']\n",
    "    plt.plot(wells_prod[0][0], wells_prod[0][1], 'o', color='r', label='prod well')\n",
    "    \n",
    "    plt.xlabel('X, m.')\n",
    "    plt.ylabel('Y, m.')\n",
    "    plt.legend()\n",
    "    plt.grid()\n",
    "    plt.show()"
   ]
  },
  {
   "cell_type": "code",
   "execution_count": null,
   "id": "220b3c60",
   "metadata": {},
   "outputs": [],
   "source": [
    "plot_dfn(input_data)"
   ]
  },
  {
   "cell_type": "markdown",
   "id": "7a80d86a",
   "metadata": {},
   "source": [
    "## Mesh generation\n",
    "\n",
    "For details on DFN mesh generation and parameters see https://doi.org/10.1029/2021WR030743."
   ]
  },
  {
   "cell_type": "code",
   "execution_count": null,
   "id": "c1c3d3d0",
   "metadata": {},
   "outputs": [],
   "source": [
    "# Read fracture tips from input_data['frac_file'] and generate a .geo text file (input for gmsh), then\n",
    "# call gmesh to create a mesh and output it to .msh text file, which will be used as an input to DARTS\n",
    "# These files are stored tin the 'meshes' folder, one mesh is original (raw) \n",
    "# and the second is optimized for calculation (cleaned)\n",
    "\n",
    "def generate_mesh(input_data):\n",
    "    output_dir = 'meshes'\n",
    "    frac_data_raw = np.genfromtxt(input_data['frac_file'])\n",
    "\n",
    "    if not os.path.exists(output_dir):\n",
    "        os.makedirs(output_dir)\n",
    "\n",
    "    # Input parameters for cleaning procedure\n",
    "    angle_tol_straighten = 2  # tolerance for straightening fracture segments [degrees]\n",
    "    merge_threshold = 0.5  # tolerance for merging nodes in algebraic constraint, values on interval [0.5, 0.86] [-]\n",
    "    angle_tol_remove_segm = np.arctan(0.15) * 180 / np.pi   # tolerance for removing accute intersections [degrees]\n",
    "    decimals = 7  # in order to remove duplicates we need to have fixed number of decimals\n",
    "    num_partition_x = 4  # number of partitions for parallel implementation of intersection finding algorithm\n",
    "    num_partition_y = 4  # \" ... \"\n",
    "\n",
    "    frac_preprocessing(frac_data_raw, char_len=input_data['char_len'], output_dir=output_dir, \n",
    "                       filename_base=input_data['case_name'], merge_threshold=merge_threshold, z_top=input_data['z_top'],\n",
    "                       height_res=input_data['height'], angle_tol_small_intersect=angle_tol_remove_segm, \n",
    "                       apertures_raw=None, box_data=input_data['box_data'], margin=input_data['margin'],\n",
    "                       mesh_clean=input_data['mesh_clean'], mesh_raw=False, \n",
    "                       angle_tol_straighten=angle_tol_straighten, straighten_after_cln=True, decimals=decimals,\n",
    "                       tolerance_zero=1e-10, tolerance_intersect=1e-10, calc_intersections_before=False, \n",
    "                       calc_intersections_after=False, num_partition_x=num_partition_x, num_partition_y=num_partition_y, \n",
    "                       partition_fractures_in_segms=True, matrix_perm=1, correct_aperture=False,\n",
    "                       small_angle_iter=2, char_len_mult=1, char_len_boundary=input_data['char_len_boundary'], \n",
    "                       main_algo_iters=1, wells=None, char_len_well=input_data['char_len_well'], input_data=input_data)"
   ]
  },
  {
   "cell_type": "code",
   "execution_count": null,
   "id": "d567a574",
   "metadata": {},
   "outputs": [],
   "source": [
    "# need gmsh installed and callable from command line in order to mesh or gmsh python package installed\n",
    "generate_mesh(input_data)"
   ]
  },
  {
   "cell_type": "markdown",
   "id": "0d596a89",
   "metadata": {},
   "source": [
    "## Run simulation"
   ]
  },
  {
   "cell_type": "code",
   "execution_count": null,
   "id": "035d179e",
   "metadata": {},
   "outputs": [],
   "source": [
    "m = Model(input_data)\n",
    "m.init(output_folder='output_3')\n",
    "m.set_sim_params(first_ts=1e-2, mult_ts=2, max_ts=60, tol_newton=1e-3, tol_linear=1e-4, it_newton=10, it_linear=50)\n",
    "\n",
    "# output initial solution to vtk file\n",
    "output_dir = 'vtk_output_dfn'\n",
    "\n",
    "# run simulation for 365 days\n",
    "m.run(365)\n",
    "\n",
    "# output current timestep to vtk file\n",
    "m.output_to_vtk(ith_step=1, output_directory=output_dir)"
   ]
  },
  {
   "cell_type": "markdown",
   "id": "362b8f93",
   "metadata": {},
   "source": [
    "## Plot temperature and rates"
   ]
  },
  {
   "cell_type": "code",
   "execution_count": null,
   "id": "97aa7541",
   "metadata": {},
   "outputs": [],
   "source": [
    "def plot_wells(pkl_fname, axx, plot_cols):\n",
    "    time_data = pickle.load(open(pkl_fname, 'rb'))\n",
    "\n",
    "    td = time_data\n",
    "    for k in td.keys():\n",
    "        if 'temperature' in k:\n",
    "            td[k] -= 273.15\n",
    "            td = td.rename(columns={k: k.replace('(K)', '(degrees)')})\n",
    "        else: # for rates\n",
    "            td[k] = np.abs(td[k])\n",
    "\n",
    "    # plot the defined columns for all wells\n",
    "    for i, col in enumerate(plot_cols):\n",
    "        y = td.filter(like=col).columns.to_list()\n",
    "\n",
    "        td.plot(x='Time (years)', y=y, ax=axx[i])\n",
    "        axx[i].set_ylabel('%s %s'%(col, td.filter(like=col).columns.tolist()[0].split(' ')[-1]))\n",
    "        l = labels=[lab.split(':')[0].split('(')[0] for lab in axx[i].get_legend_handles_labels()[1]]\n",
    "        axx[i].legend(l,frameon=False, ncol=2)\n",
    "        axx[i].tick_params(axis=u'both', which=u'both',length=0)\n",
    "        for location in ['top','bottom','left','right']:\n",
    "            axx[i].spines[location].set_linewidth(0)\n",
    "            axx[i].grid(alpha=0.3)\n",
    "            \n",
    "    plt.tight_layout()"
   ]
  },
  {
   "cell_type": "code",
   "execution_count": null,
   "id": "3bb00e03",
   "metadata": {},
   "outputs": [],
   "source": [
    "# postprocessing\n",
    "\n",
    "# save well data to pkl\n",
    "time_data = pd.DataFrame.from_dict(m.physics.engine.time_data)\n",
    "time_data['Time (years)'] = time_data['time']/365.\n",
    "pkl_fname = 'time_data.pkl'\n",
    "pickle.dump(time_data, open(pkl_fname, 'wb'))\n",
    "\n",
    "# plot two variables from pkl file\n",
    "plot_cols = ['temperature', 'water rate']\n",
    "fig, ax = plt.subplots(1, len(plot_cols), figsize=(12,5))\n",
    "plot_wells(pkl_fname, fig.axes, plot_cols)\n",
    "plt.show()"
   ]
  },
  {
   "cell_type": "markdown",
   "id": "50cf8306",
   "metadata": {},
   "source": [
    "## Plot temperature map"
   ]
  },
  {
   "cell_type": "code",
   "execution_count": null,
   "id": "c16ead78",
   "metadata": {},
   "outputs": [],
   "source": [
    "def plot_pyvista(input_data, output_dir):\n",
    "    import pyvista as pv\n",
    "\n",
    "    vtk_fname = os.path.join(output_dir, 'solution0.vtk')\n",
    "\n",
    "    # get vts data\n",
    "    mesh = pv.read(vtk_fname)\n",
    "\n",
    "    # define plotter\n",
    "    plotter = pv.Plotter()\n",
    "\n",
    "    # set temperature as active scalar\n",
    "    temp = mesh.set_active_scalars('T,degrees')\n",
    "    # add threshold levels\n",
    "    thresT = mesh.threshold([60, 110], invert=False)\n",
    "    \n",
    "    # set fracture as active scalar\n",
    "    mesh.set_active_scalars('matrix_cell_bool')\n",
    "    # plot only fractures (0 index)\n",
    "    thresF = mesh.threshold([0, 0], invert=False)\n",
    "    # add outline of mesh\n",
    "    outline = mesh.outline()\n",
    "\n",
    "    # add elements to plotter\n",
    "    plotter.set_background('#52576c')\n",
    "    plotter.add_mesh(outline, color='k')\n",
    "    try: # in case there is an issue in PyVista \"'NoneType' object is not callable\"\n",
    "        plotter.add_mesh(thresT, cmap='coolwarm', opacity=0.99,\n",
    "                     scalar_bar_args={'title':'Temperature (\\N{DEGREE SIGN}C)'})\n",
    "        plotter.add_mesh(thresF, show_scalar_bar=False, cmap='coolwarm')\n",
    "    except:\n",
    "        plotter.add_mesh(thresT, opacity=0.99,\n",
    "                     scalar_bar_args={'title':'Temperature (\\N{DEGREE SIGN}C)'})\n",
    "        plotter.add_mesh(thresF, show_scalar_bar=False)\n",
    "    \n",
    "    # add wells as lines\n",
    "    wells_inj = input_data['inj_well_coords']\n",
    "    wells_prod = input_data['prod_well_coords']\n",
    "\n",
    "    i = 0\n",
    "\n",
    "    injline = np.array([[wells_inj[i][0], wells_inj[i][1], 2000], [wells_inj[i][0], wells_inj[i][1], 2200]])\n",
    "    prodline = np.array([[wells_prod[i][0], wells_prod[i][1], 2000], [wells_prod[i][0], wells_prod[i][1], 2200]])\n",
    "\n",
    "    plotter.add_lines(injline, color='b', name='injector')\n",
    "    plotter.add_lines(prodline, color='r', name='producer')\n",
    "    plotter.add_axes(line_width=5, labels_off=False)\n",
    "    plotter.camera_position = [-2,-5,5] \n",
    "    \n",
    "    plotter.show()"
   ]
  },
  {
   "cell_type": "code",
   "execution_count": null,
   "id": "7b67fe4b",
   "metadata": {},
   "outputs": [],
   "source": [
    "# plot temperature map from vtk file\n",
    "plot_pyvista(input_data, output_dir)"
   ]
  },
  {
   "cell_type": "markdown",
   "id": "d0e4c56b",
   "metadata": {},
   "source": [
    "## <font color='Blue'>Tasks in this workshop:</font>\n",
    "\n",
    "Plot and copy production temperature and rates after each task items:\n",
    "\n",
    "1. Run simulation for 10 years and compare well output and the temperature map\n",
    "2. Change the reservoir thickness to 100 m and compare well output \n",
    "3. Change matrix permeability to granite (0.01 mD) and compare well output\n",
    "4. Change matrix permeability to sandstone (100 mD) and compare well output\n",
    "\n",
    "More details on modeling of geothermal energy production in fractured reservoirs can be found in https://doi.org/10.1016/j.advwatres.2021.103985 "
   ]
  },
  {
   "cell_type": "code",
   "execution_count": null,
   "id": "9a120d34",
   "metadata": {},
   "outputs": [],
   "source": []
  }
 ],
 "metadata": {
  "kernelspec": {
   "display_name": "Python 3 (ipykernel)",
   "language": "python",
   "name": "python3"
  },
  "language_info": {
   "codemirror_mode": {
    "name": "ipython",
    "version": 3
   },
   "file_extension": ".py",
   "mimetype": "text/x-python",
   "name": "python",
   "nbconvert_exporter": "python",
   "pygments_lexer": "ipython3",
   "version": "3.9.20"
  }
 },
 "nbformat": 4,
 "nbformat_minor": 5
}
